{
 "cells": [
  {
   "cell_type": "markdown",
   "id": "65cd475b",
   "metadata": {},
   "source": [
    "# Final Project - Paths from Techno-Z to bars\n",
    "By: Klara Honzak, Jonas Kaiser"
   ]
  },
  {
   "cell_type": "code",
   "execution_count": 16,
   "id": "040e9266",
   "metadata": {},
   "outputs": [],
   "source": [
    "import networkx as nx \n",
    "import osmnx as ox \n",
    "from IPython.display import IFrame"
   ]
  },
  {
   "cell_type": "code",
   "execution_count": 17,
   "id": "67957d96",
   "metadata": {},
   "outputs": [],
   "source": [
    "#load the street map of Salzburg\n",
    "G = ox.graph_from_place(\"Salzburg, Austria\", network_type=\"walk\")"
   ]
  },
  {
   "cell_type": "code",
   "execution_count": 18,
   "id": "9428b1fe",
   "metadata": {},
   "outputs": [],
   "source": [
    "m1 = ox.plot_graph_folium(G, popup_attribute=\"name\", weight=2, color=\"#8b0000\")"
   ]
  },
  {
   "cell_type": "code",
   "execution_count": 19,
   "id": "ad7e31f4",
   "metadata": {
    "scrolled": false
   },
   "outputs": [
    {
     "data": {
      "text/html": [
       "\n",
       "        <iframe\n",
       "            width=\"600\"\n",
       "            height=\"500\"\n",
       "            src=\"Downloads.html\"\n",
       "            frameborder=\"0\"\n",
       "            allowfullscreen\n",
       "            \n",
       "        ></iframe>\n",
       "        "
      ],
      "text/plain": [
       "<IPython.lib.display.IFrame at 0x203cce4ce80>"
      ]
     },
     "execution_count": 19,
     "metadata": {},
     "output_type": "execute_result"
    }
   ],
   "source": [
    "# save as html file then display map as an iframe\n",
    "filepath = \"Downloads.html\"\n",
    "m1.save(filepath)\n",
    "IFrame(filepath, width=600, height=500)"
   ]
  },
  {
   "cell_type": "markdown",
   "id": "3e191492",
   "metadata": {},
   "source": [
    "## Shortest path from Techno-Z to several bars in Salzburg\n"
   ]
  },
  {
   "cell_type": "code",
   "execution_count": 20,
   "id": "093dc14f",
   "metadata": {},
   "outputs": [],
   "source": [
    "# this function maps the shortest path between two points\n",
    "# \"startpoint\" and \"endpoint\" are tuples with coordinates\n",
    "\n",
    "def shortest_path(startpoint, endpoint):\n",
    "    origin_node = ox.distance.nearest_nodes(G, startpoint[0], startpoint[1])\n",
    "    destination_node = ox.distance.nearest_nodes(G, endpoint[0], endpoint[1])\n",
    "    route = nx.shortest_path(G, origin_node, destination_node)\n",
    "    m = ox.plot_route_folium(G, route, weight=3)\n",
    "    filepath = \"Downloads.html\"\n",
    "    m.save(filepath)\n",
    "    return IFrame(filepath, width=600, height=500)\n"
   ]
  },
  {
   "cell_type": "code",
   "execution_count": 21,
   "id": "8af8d66a",
   "metadata": {},
   "outputs": [
    {
     "data": {
      "text/html": [
       "\n",
       "        <iframe\n",
       "            width=\"600\"\n",
       "            height=\"500\"\n",
       "            src=\"Downloads.html\"\n",
       "            frameborder=\"0\"\n",
       "            allowfullscreen\n",
       "            \n",
       "        ></iframe>\n",
       "        "
      ],
      "text/plain": [
       "<IPython.lib.display.IFrame at 0x203fa406f50>"
      ]
     },
     "execution_count": 21,
     "metadata": {},
     "output_type": "execute_result"
    }
   ],
   "source": [
    "# Path from Techno-Z to Schnaitl\n",
    "shortest_path((13.0398849,47.8228926),(13.0456583,47.8030244))"
   ]
  },
  {
   "cell_type": "code",
   "execution_count": 22,
   "id": "a910a84c",
   "metadata": {},
   "outputs": [
    {
     "data": {
      "text/html": [
       "\n",
       "        <iframe\n",
       "            width=\"600\"\n",
       "            height=\"500\"\n",
       "            src=\"Downloads.html\"\n",
       "            frameborder=\"0\"\n",
       "            allowfullscreen\n",
       "            \n",
       "        ></iframe>\n",
       "        "
      ],
      "text/plain": [
       "<IPython.lib.display.IFrame at 0x203fa407970>"
      ]
     },
     "execution_count": 22,
     "metadata": {},
     "output_type": "execute_result"
    }
   ],
   "source": [
    "# Path from Techno-Z to Monkey´s\n",
    "shortest_path((13.0398849,47.8228926),(13.0479551,47.8006314))"
   ]
  },
  {
   "cell_type": "code",
   "execution_count": 23,
   "id": "bfe96475",
   "metadata": {},
   "outputs": [
    {
     "data": {
      "text/html": [
       "\n",
       "        <iframe\n",
       "            width=\"600\"\n",
       "            height=\"500\"\n",
       "            src=\"Downloads.html\"\n",
       "            frameborder=\"0\"\n",
       "            allowfullscreen\n",
       "            \n",
       "        ></iframe>\n",
       "        "
      ],
      "text/plain": [
       "<IPython.lib.display.IFrame at 0x203fa404370>"
      ]
     },
     "execution_count": 23,
     "metadata": {},
     "output_type": "execute_result"
    }
   ],
   "source": [
    "# Path from Techno-Z to Shamrock\n",
    "shortest_path((13.0398849,47.8228926),(13.0455082,47.800369))"
   ]
  }
 ],
 "metadata": {
  "kernelspec": {
   "display_name": "Python [conda env:ox]",
   "language": "python",
   "name": "conda-env-ox-py"
  },
  "language_info": {
   "codemirror_mode": {
    "name": "ipython",
    "version": 3
   },
   "file_extension": ".py",
   "mimetype": "text/x-python",
   "name": "python",
   "nbconvert_exporter": "python",
   "pygments_lexer": "ipython3",
   "version": "3.10.4"
  }
 },
 "nbformat": 4,
 "nbformat_minor": 5
}
